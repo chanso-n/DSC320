{
 "cells": [
  {
   "cell_type": "code",
   "execution_count": 122,
   "id": "e66b15c8",
   "metadata": {},
   "outputs": [],
   "source": [
    "# import libraries\n",
    "\n",
    "import numpy as np\n",
    "from numpy.linalg import eig\n",
    "import matplotlib.pyplot as plt\n",
    "import pandas as pd"
   ]
  },
  {
   "cell_type": "code",
   "execution_count": 118,
   "id": "323f1896",
   "metadata": {},
   "outputs": [
    {
     "data": {
      "text/plain": [
       "array([[ 4,  0,  1],\n",
       "       [-1, -6, -2],\n",
       "       [ 5,  0,  0]])"
      ]
     },
     "execution_count": 118,
     "metadata": {},
     "output_type": "execute_result"
    }
   ],
   "source": [
    "# 1. Finding the Eigenvalues and Eigemvectors\n",
    "# assign matrix A\n",
    "\n",
    "A = np.array([[4, 0, 1], [-1, -6, -2], [5, 0, 0]])\n",
    "A"
   ]
  },
  {
   "cell_type": "code",
   "execution_count": 119,
   "id": "3bd393a4",
   "metadata": {},
   "outputs": [
    {
     "data": {
      "text/plain": [
       "array([[  7],\n",
       "       [-19],\n",
       "       [  5]])"
      ]
     },
     "execution_count": 119,
     "metadata": {},
     "output_type": "execute_result"
    }
   ],
   "source": [
    "# 1a. Is vector 'u' and eigenvector of A?\n",
    "\n",
    "u = np.array([[1], [2], [3]])\n",
    "v = A @ u\n",
    "v"
   ]
  },
  {
   "cell_type": "code",
   "execution_count": 120,
   "id": "d36d675c",
   "metadata": {},
   "outputs": [
    {
     "name": "stdout",
     "output_type": "stream",
     "text": [
      "Vector u is not an eigenvector of A because it is not a scalar multiple.\n"
     ]
    },
    {
     "data": {
      "image/png": "[encoded data removed]",
      "text/plain": [
       "<Figure size 432x288 with 1 Axes>"
      ]
     },
     "metadata": {
      "needs_background": "light"
     },
     "output_type": "display_data"
    }
   ],
   "source": [
    "# 1a. Is vector 'u' and eigenvector of A?\n",
    "\n",
    "print('Vector u is not an eigenvector of A because it is not a scalar multiple.')\n",
    "plt.grid()\n",
    "plt.axvline(x = 0, c = \"black\")\n",
    "plt.axhline(y = 0, c = \"black\")\n",
    "plt.xlim(-8, 8)\n",
    "plt.ylim(-20, 20)\n",
    "plt.quiver(0, 0, u[0], u[1], color = \"#2EBCE7\", angles = 'xy', scale_units = 'xy', scale = 1, label = \"u\")\n",
    "plt.quiver(0, 0, v[0], v[1], color = \"#00E64E\", angles = 'xy', scale_units = 'xy', scale = 1, label = \"v\")\n",
    "plt.legend(loc = \"upper left\")\n",
    "\n",
    "plt.show()"
   ]
  },
  {
   "cell_type": "code",
   "execution_count": 74,
   "id": "980bf34c",
   "metadata": {},
   "outputs": [
    {
     "data": {
      "text/plain": [
       "array([[ 0],\n",
       "       [-6],\n",
       "       [ 0]])"
      ]
     },
     "execution_count": 74,
     "metadata": {},
     "output_type": "execute_result"
    }
   ],
   "source": [
    "# 1b. Is vector 'a' and eigenvector of A?\n",
    "\n",
    "a = np.array([[0], [1], [0]])\n",
    "b = A @ a\n",
    "b"
   ]
  },
  {
   "cell_type": "code",
   "execution_count": 116,
   "id": "058f4fc9",
   "metadata": {},
   "outputs": [
    {
     "name": "stdout",
     "output_type": "stream",
     "text": [
      "Vector a is an eigenvector with an eigenvalue of -6.\n"
     ]
    },
    {
     "data": {
      "image/png": "[encoded data removed]",
      "text/plain": [
       "<Figure size 432x288 with 1 Axes>"
      ]
     },
     "metadata": {
      "needs_background": "light"
     },
     "output_type": "display_data"
    }
   ],
   "source": [
    "# 1b. Is vector 'a' and eigenvector of A?\n",
    "\n",
    "print('Vector a is an eigenvector with an eigenvalue of -6.')\n",
    "plt.grid()\n",
    "plt.axvline(x = 0, c = \"black\", alpha = .3)\n",
    "plt.axhline(y = 0, c = \"black\", alpha = .3)\n",
    "plt.xlim(-1, 1)\n",
    "plt.ylim(-7, 7)\n",
    "plt.quiver(0, 0, a[0], a[1], color = \"#2EBCE7\", angles = 'xy', scale_units = 'xy', scale = 1, label = \"a\")\n",
    "plt.quiver(0, 0, b[0], b[1], color = \"#00E64E\", angles = 'xy', scale_units = 'xy', scale = 1, label = \"b\")\n",
    "plt.legend(loc = \"upper left\")\n",
    "\n",
    "plt.show()"
   ]
  },
  {
   "cell_type": "code",
   "execution_count": 87,
   "id": "21bd85ba",
   "metadata": {},
   "outputs": [
    {
     "name": "stdout",
     "output_type": "stream",
     "text": [
      "Eigenvalues: [-6.  5. -1.]\n",
      "Eigenvectors: [[ 0.          0.69431384 -0.18493168]\n",
      " [ 1.         -0.18935832 -0.33287702]\n",
      " [ 0.          0.69431384  0.9246584 ]]\n"
     ]
    }
   ],
   "source": [
    "# 1c. Find all eigenvalues and eigenvectors of A\n",
    "\n",
    "w, v = eig(A)\n",
    "print('Eigenvalues:', w)\n",
    "print('Eigenvectors:', v)"
   ]
  },
  {
   "cell_type": "code",
   "execution_count": 89,
   "id": "a10470cf",
   "metadata": {},
   "outputs": [
    {
     "data": {
      "text/html": [
       "<div>\n",
       "<style scoped>\n",
       "    .dataframe tbody tr th:only-of-type {\n",
       "        vertical-align: middle;\n",
       "    }\n",
       "\n",
       "    .dataframe tbody tr th {\n",
       "        vertical-align: top;\n",
       "    }\n",
       "\n",
       "    .dataframe thead th {\n",
       "        text-align: right;\n",
       "    }\n",
       "</style>\n",
       "<table border=\"1\" class=\"dataframe\">\n",
       "  <thead>\n",
       "    <tr style=\"text-align: right;\">\n",
       "      <th></th>\n",
       "      <th>name</th>\n",
       "      <th>critic_score</th>\n",
       "      <th>user_score</th>\n",
       "      <th>total_shipped</th>\n",
       "    </tr>\n",
       "  </thead>\n",
       "  <tbody>\n",
       "    <tr>\n",
       "      <th>0</th>\n",
       "      <td>Mario Kart Wii</td>\n",
       "      <td>8.2</td>\n",
       "      <td>9.1</td>\n",
       "      <td>37.14</td>\n",
       "    </tr>\n",
       "    <tr>\n",
       "      <th>1</th>\n",
       "      <td>Wii Sports Resort</td>\n",
       "      <td>8.0</td>\n",
       "      <td>8.8</td>\n",
       "      <td>33.09</td>\n",
       "    </tr>\n",
       "    <tr>\n",
       "      <th>2</th>\n",
       "      <td>New Super Mario Bros.</td>\n",
       "      <td>9.1</td>\n",
       "      <td>8.1</td>\n",
       "      <td>30.80</td>\n",
       "    </tr>\n",
       "    <tr>\n",
       "      <th>3</th>\n",
       "      <td>New Super Mario Bros. Wii</td>\n",
       "      <td>8.6</td>\n",
       "      <td>9.2</td>\n",
       "      <td>30.22</td>\n",
       "    </tr>\n",
       "    <tr>\n",
       "      <th>4</th>\n",
       "      <td>Mario Kart DS</td>\n",
       "      <td>9.1</td>\n",
       "      <td>9.4</td>\n",
       "      <td>23.60</td>\n",
       "    </tr>\n",
       "  </tbody>\n",
       "</table>\n",
       "</div>"
      ],
      "text/plain": [
       "                        name  critic_score  user_score  total_shipped\n",
       "0             Mario Kart Wii           8.2         9.1          37.14\n",
       "1          Wii Sports Resort           8.0         8.8          33.09\n",
       "2      New Super Mario Bros.           9.1         8.1          30.80\n",
       "3  New Super Mario Bros. Wii           8.6         9.2          30.22\n",
       "4              Mario Kart DS           9.1         9.4          23.60"
      ]
     },
     "execution_count": 89,
     "metadata": {},
     "output_type": "execute_result"
    }
   ],
   "source": [
    "# 2. Principal Component Analysis\n",
    "\n",
    "# import data\n",
    "vg_data = pd.read_csv('C:/Users/corri/OneDrive/Desktop/video_game_data.csv')\n",
    "vg_data.head()"
   ]
  },
  {
   "cell_type": "code",
   "execution_count": 113,
   "id": "fa4d9bb0",
   "metadata": {},
   "outputs": [
    {
     "data": {
      "image/png": "[encoded data removed]",
      "text/plain": [
       "<Figure size 432x288 with 1 Axes>"
      ]
     },
     "metadata": {
      "needs_background": "light"
     },
     "output_type": "display_data"
    }
   ],
   "source": [
    "# 2a. Make a scatterplot of user scores versus critics scores\n",
    "\n",
    "plt.scatter(vg_data['user_score'], vg_data['critic_score'])\n",
    "plt.xlabel('User Score')\n",
    "plt.ylabel('Critic Score')\n",
    "\n",
    "plt.show()"
   ]
  },
  {
   "cell_type": "code",
   "execution_count": 123,
   "id": "5c5b1f44",
   "metadata": {},
   "outputs": [
    {
     "data": {
      "text/plain": [
       "(57, 2)"
      ]
     },
     "execution_count": 123,
     "metadata": {},
     "output_type": "execute_result"
    }
   ],
   "source": [
    "# 2b. sketch the approximate directions of the first and second principal components\n",
    "\n",
    "# create data matrix with two variables\n",
    "X = np.array([vg_data['user_score'], vg_data['critic_score']]).T\n",
    "X.shape"
   ]
  },
  {
   "cell_type": "code",
   "execution_count": 124,
   "id": "b09b85b2",
   "metadata": {},
   "outputs": [
    {
     "data": {
      "text/plain": [
       "array([[0.60490602, 0.27559211],\n",
       "       [0.27559211, 0.59682331]])"
      ]
     },
     "execution_count": 124,
     "metadata": {},
     "output_type": "execute_result"
    }
   ],
   "source": [
    "# compute covariance matrix of data\n",
    "\n",
    "C = np.cov(X, rowvar = False)\n",
    "C"
   ]
  },
  {
   "cell_type": "code",
   "execution_count": 125,
   "id": "1cace9bc",
   "metadata": {},
   "outputs": [
    {
     "data": {
      "text/plain": [
       "(array([0.8764864 , 0.32524293]),\n",
       " array([[ 0.71227196, -0.7019036 ],\n",
       "        [ 0.7019036 ,  0.71227196]]))"
      ]
     },
     "execution_count": 125,
     "metadata": {},
     "output_type": "execute_result"
    }
   ],
   "source": [
    "# calculate eigenvectors and eigenvalues of covariance matrix\n",
    "\n",
    "eigvals, eigvecs = np.linalg.eig(C)\n",
    "eigvals, eigvecs"
   ]
  },
  {
   "cell_type": "code",
   "execution_count": 126,
   "id": "b51ab65b",
   "metadata": {},
   "outputs": [
    {
     "data": {
      "text/plain": [
       "(array([[0.71227196],\n",
       "        [0.7019036 ]]),\n",
       " array([[-0.7019036 ],\n",
       "        [ 0.71227196]]))"
      ]
     },
     "execution_count": 126,
     "metadata": {},
     "output_type": "execute_result"
    }
   ],
   "source": [
    "# store eigenvectors as u and v\n",
    "\n",
    "u = eigvecs[:, 0].reshape(-1, 1)\n",
    "v = eigvecs[:, 1].reshape(-1, 1)\n",
    "u, v"
   ]
  },
  {
   "cell_type": "code",
   "execution_count": 128,
   "id": "c68bc0ac",
   "metadata": {},
   "outputs": [
    {
     "data": {
      "image/png": "[encoded data removed]",
      "text/plain": [
       "<Figure size 432x288 with 1 Axes>"
      ]
     },
     "metadata": {
      "needs_background": "light"
     },
     "output_type": "display_data"
    }
   ],
   "source": [
    "# plot first and second principal components using vector length of three standard deviations\n",
    "\n",
    "X_centered = X - X.mean(axis = 0)\n",
    "\n",
    "plt.quiver(0, 0,\n",
    "          2 * np.sqrt(eigvals[0]) * u[0], 2 * np.sqrt(eigvals[0]) * u[1], color = \"#919191\", angles = 'xy',\n",
    "           scale_units = 'xy', scale = 1, zorder = 2, width = 0.011, label = \"u, first principal component\")\n",
    "plt.quiver(0, 0,\n",
    "          2 * np.sqrt(eigvals[1]) * v[0], 2 * np.sqrt(eigvals[1]) * v[1], color = \"#FF8177\", angles = 'xy',\n",
    "          scale_units = 'xy', scale = 1, zorder = 2, width = 0.011, label = \"v, second principal component\")\n",
    "\n",
    "plt.scatter(X_centered[:, 0], X_centered[:, 1], alpha = .3)\n",
    "plt.grid()\n",
    "plt.axvline(x = 0, c = \"black\", alpha = .7)\n",
    "plt.axhline(y = 0, c = \"black\", alpha = .7)\n",
    "plt.xlim(-3.5, 3.5)\n",
    "plt.ylim(-2, 2)\n",
    "plt.legend(loc = \"upper left\")\n",
    "\n",
    "plt.show()"
   ]
  }
 ],
 "metadata": {
  "kernelspec": {
   "display_name": "Python 3 (ipykernel)",
   "language": "python",
   "name": "python3"
  },
  "language_info": {
   "codemirror_mode": {
    "name": "ipython",
    "version": 3
   },
   "file_extension": ".py",
   "mimetype": "text/x-python",
   "name": "python",
   "nbconvert_exporter": "python",
   "pygments_lexer": "ipython3",
   "version": "3.9.3"
  }
 },
 "nbformat": 4,
 "nbformat_minor": 5
}
