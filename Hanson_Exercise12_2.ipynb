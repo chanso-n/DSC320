{
 "cells": [
  {
   "cell_type": "code",
   "execution_count": 38,
   "id": "cb339934",
   "metadata": {},
   "outputs": [],
   "source": [
    "# import libraries\n",
    "\n",
    "import pandas as pd\n",
    "import scipy.stats\n",
    "import numpy as np"
   ]
  },
  {
   "cell_type": "code",
   "execution_count": 39,
   "id": "8925c28a",
   "metadata": {},
   "outputs": [
    {
     "data": {
      "text/html": [
       "<div>\n",
       "<style scoped>\n",
       "    .dataframe tbody tr th:only-of-type {\n",
       "        vertical-align: middle;\n",
       "    }\n",
       "\n",
       "    .dataframe tbody tr th {\n",
       "        vertical-align: top;\n",
       "    }\n",
       "\n",
       "    .dataframe thead th {\n",
       "        text-align: right;\n",
       "    }\n",
       "</style>\n",
       "<table border=\"1\" class=\"dataframe\">\n",
       "  <thead>\n",
       "    <tr style=\"text-align: right;\">\n",
       "      <th></th>\n",
       "      <th>Process</th>\n",
       "      <th>Initial_Probability</th>\n",
       "      <th>Defective</th>\n",
       "      <th>Not_Defective</th>\n",
       "    </tr>\n",
       "  </thead>\n",
       "  <tbody>\n",
       "    <tr>\n",
       "      <th>0</th>\n",
       "      <td>A</td>\n",
       "      <td>0.5</td>\n",
       "      <td>0.03</td>\n",
       "      <td>0.97</td>\n",
       "    </tr>\n",
       "    <tr>\n",
       "      <th>1</th>\n",
       "      <td>B</td>\n",
       "      <td>0.3</td>\n",
       "      <td>0.02</td>\n",
       "      <td>0.98</td>\n",
       "    </tr>\n",
       "    <tr>\n",
       "      <th>2</th>\n",
       "      <td>C</td>\n",
       "      <td>0.2</td>\n",
       "      <td>0.04</td>\n",
       "      <td>0.96</td>\n",
       "    </tr>\n",
       "  </tbody>\n",
       "</table>\n",
       "</div>"
      ],
      "text/plain": [
       "  Process  Initial_Probability  Defective  Not_Defective\n",
       "0       A                  0.5       0.03           0.97\n",
       "1       B                  0.3       0.02           0.98\n",
       "2       C                  0.2       0.04           0.96"
      ]
     },
     "execution_count": 39,
     "metadata": {},
     "output_type": "execute_result"
    }
   ],
   "source": [
    "# 1. Calculating Probabilities using Bayes' Theorem\n",
    "\n",
    "# create dataframe\n",
    "data = [['A', .5, .03, .97], ['B', .3, .02, .98], ['C', .2, .04, .96]]\n",
    "df = pd.DataFrame(data, columns = ['Process', 'Initial_Probability', 'Defective', 'Not_Defective'])\n",
    "\n",
    "df"
   ]
  },
  {
   "cell_type": "code",
   "execution_count": 63,
   "id": "590f586c",
   "metadata": {},
   "outputs": [
    {
     "name": "stdout",
     "output_type": "stream",
     "text": [
      "The probability of a defective card being manufacture using Process A is: 0.5172413793103449\n"
     ]
    }
   ],
   "source": [
    "# 1a. What is the probability of Process A given a defective card?\n",
    "# P(A|Defective) = P(Defective|A) * P(A) / P(Defective)\n",
    "\n",
    "# probability of defective card\n",
    "D = sum(df.Defective * df.Initial_Probability)\n",
    "\n",
    "print(\"The probability of a defective card being manufacture using Process A is:\", (df.iat[0, 2] * df.iat[0, 1]) / D)"
   ]
  },
  {
   "cell_type": "code",
   "execution_count": 62,
   "id": "bba7424e",
   "metadata": {},
   "outputs": [
    {
     "name": "stdout",
     "output_type": "stream",
     "text": [
      "The probability of a non defective card being manufactured using Process C is: 0.1977342945417096\n"
     ]
    }
   ],
   "source": [
    "# 1b.What is the probability of Process C given a non defective card?\n",
    "# P(C|Not Defective) = P(Not Defective|C) * P(C) / P(Not Defective)\n",
    "\n",
    "# probability of a non defective card\n",
    "nd = sum(df.Not_Defective * df.Initial_Probability)\n",
    "\n",
    "print(\"The probability of a non defective card being manufactured using Process C is:\", (df.iat[2, 3] * df.iat[2, 1]) / nd)"
   ]
  },
  {
   "cell_type": "code",
   "execution_count": 51,
   "id": "cd11e56c",
   "metadata": {},
   "outputs": [],
   "source": [
    "#2. Entropy Function for a Probability Distribution\n",
    "\n",
    "# 2a. define entropy function\n",
    "def entropy(x):\n",
    "    return - np.sum(x * np.log2(x))"
   ]
  },
  {
   "cell_type": "code",
   "execution_count": 61,
   "id": "31b8aecd",
   "metadata": {},
   "outputs": [
    {
     "name": "stdout",
     "output_type": "stream",
     "text": [
      "Entropy of X: 2.321928094887362 \n",
      "Entropy of Y: 2.046439344671015\n",
      "The entropy of X is higher. This is because Y has more variation/difference. The more variation/difference, the lower the \n",
      "entropy. Entropy is weighted by probbility resulting in lower probabilities having less influence while higher prbabilities \n",
      "have more weight.\n"
     ]
    }
   ],
   "source": [
    "# 2a. Use the function to calculate the entropies of X and Y.\n",
    "\n",
    "X = np.array([0.2, 0.2, 0.2, 0.2, 0.2])\n",
    "Y = np.array([0.1, 0.4, 0.1, 0.3, 0.1])\n",
    "\n",
    "print(\"Entropy of X:\", entropy(X), \"\\nEntropy of Y:\", entropy(Y))\n",
    "print(\"The entropy of X is higher. This is because Y has more variation/difference. The more variation/difference,\"\n",
    "     \" the lower the \\nentropy. Entropy is weighted by probbility resulting in lower probabilities having less \"\n",
    "     \"influence while higher prbabilities \\nhave more weight.\")"
   ]
  }
 ],
 "metadata": {
  "kernelspec": {
   "display_name": "Python 3 (ipykernel)",
   "language": "python",
   "name": "python3"
  },
  "language_info": {
   "codemirror_mode": {
    "name": "ipython",
    "version": 3
   },
   "file_extension": ".py",
   "mimetype": "text/x-python",
   "name": "python",
   "nbconvert_exporter": "python",
   "pygments_lexer": "ipython3",
   "version": "3.9.3"
  }
 },
 "nbformat": 4,
 "nbformat_minor": 5
}
