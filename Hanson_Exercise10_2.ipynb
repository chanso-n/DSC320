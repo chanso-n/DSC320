{
 "cells": [
  {
   "cell_type": "code",
   "execution_count": 99,
   "id": "b44a25e6",
   "metadata": {},
   "outputs": [],
   "source": [
    "# Import libraries\n",
    "\n",
    "import numpy as np\n",
    "import pandas as pd\n",
    "import matplotlib.pyplot as plt"
   ]
  },
  {
   "cell_type": "code",
   "execution_count": 100,
   "id": "5faacdbd",
   "metadata": {},
   "outputs": [
    {
     "data": {
      "text/html": [
       "<div>\n",
       "<style scoped>\n",
       "    .dataframe tbody tr th:only-of-type {\n",
       "        vertical-align: middle;\n",
       "    }\n",
       "\n",
       "    .dataframe tbody tr th {\n",
       "        vertical-align: top;\n",
       "    }\n",
       "\n",
       "    .dataframe thead th {\n",
       "        text-align: right;\n",
       "    }\n",
       "</style>\n",
       "<table border=\"1\" class=\"dataframe\">\n",
       "  <thead>\n",
       "    <tr style=\"text-align: right;\">\n",
       "      <th></th>\n",
       "      <th>name</th>\n",
       "      <th>team</th>\n",
       "      <th>games</th>\n",
       "      <th>att</th>\n",
       "      <th>cmp</th>\n",
       "      <th>comp_pct</th>\n",
       "      <th>yds</th>\n",
       "      <th>ypa</th>\n",
       "      <th>td</th>\n",
       "      <th>int</th>\n",
       "      <th>sack</th>\n",
       "      <th>loss</th>\n",
       "      <th>rating</th>\n",
       "    </tr>\n",
       "  </thead>\n",
       "  <tbody>\n",
       "    <tr>\n",
       "      <th>0</th>\n",
       "      <td>Ryan Tannehill</td>\n",
       "      <td>TEN</td>\n",
       "      <td>12.0</td>\n",
       "      <td>286.0</td>\n",
       "      <td>201.0</td>\n",
       "      <td>70.3</td>\n",
       "      <td>2742.0</td>\n",
       "      <td>9.6</td>\n",
       "      <td>22.0</td>\n",
       "      <td>6.0</td>\n",
       "      <td>31.0</td>\n",
       "      <td>212.0</td>\n",
       "      <td>117.5</td>\n",
       "    </tr>\n",
       "    <tr>\n",
       "      <th>1</th>\n",
       "      <td>Drew Brees</td>\n",
       "      <td>NO</td>\n",
       "      <td>11.0</td>\n",
       "      <td>378.0</td>\n",
       "      <td>281.0</td>\n",
       "      <td>74.3</td>\n",
       "      <td>2979.0</td>\n",
       "      <td>7.9</td>\n",
       "      <td>27.0</td>\n",
       "      <td>4.0</td>\n",
       "      <td>12.0</td>\n",
       "      <td>89.0</td>\n",
       "      <td>116.3</td>\n",
       "    </tr>\n",
       "    <tr>\n",
       "      <th>2</th>\n",
       "      <td>Lamar Jackson</td>\n",
       "      <td>BAL</td>\n",
       "      <td>15.0</td>\n",
       "      <td>401.0</td>\n",
       "      <td>265.0</td>\n",
       "      <td>66.1</td>\n",
       "      <td>3127.0</td>\n",
       "      <td>7.8</td>\n",
       "      <td>36.0</td>\n",
       "      <td>6.0</td>\n",
       "      <td>23.0</td>\n",
       "      <td>106.0</td>\n",
       "      <td>113.3</td>\n",
       "    </tr>\n",
       "    <tr>\n",
       "      <th>3</th>\n",
       "      <td>Kirk Cousins</td>\n",
       "      <td>MIN</td>\n",
       "      <td>15.0</td>\n",
       "      <td>444.0</td>\n",
       "      <td>307.0</td>\n",
       "      <td>69.1</td>\n",
       "      <td>3603.0</td>\n",
       "      <td>8.1</td>\n",
       "      <td>26.0</td>\n",
       "      <td>6.0</td>\n",
       "      <td>28.0</td>\n",
       "      <td>206.0</td>\n",
       "      <td>107.4</td>\n",
       "    </tr>\n",
       "    <tr>\n",
       "      <th>4</th>\n",
       "      <td>Russell Wilson</td>\n",
       "      <td>SEA</td>\n",
       "      <td>16.0</td>\n",
       "      <td>516.0</td>\n",
       "      <td>341.0</td>\n",
       "      <td>66.1</td>\n",
       "      <td>4110.0</td>\n",
       "      <td>8.0</td>\n",
       "      <td>31.0</td>\n",
       "      <td>5.0</td>\n",
       "      <td>48.0</td>\n",
       "      <td>319.0</td>\n",
       "      <td>106.3</td>\n",
       "    </tr>\n",
       "  </tbody>\n",
       "</table>\n",
       "</div>"
      ],
      "text/plain": [
       "             name team  games    att    cmp  comp_pct     yds  ypa    td  int  \\\n",
       "0  Ryan Tannehill  TEN   12.0  286.0  201.0      70.3  2742.0  9.6  22.0  6.0   \n",
       "1      Drew Brees   NO   11.0  378.0  281.0      74.3  2979.0  7.9  27.0  4.0   \n",
       "2   Lamar Jackson  BAL   15.0  401.0  265.0      66.1  3127.0  7.8  36.0  6.0   \n",
       "3    Kirk Cousins  MIN   15.0  444.0  307.0      69.1  3603.0  8.1  26.0  6.0   \n",
       "4  Russell Wilson  SEA   16.0  516.0  341.0      66.1  4110.0  8.0  31.0  5.0   \n",
       "\n",
       "   sack   loss  rating  \n",
       "0  31.0  212.0   117.5  \n",
       "1  12.0   89.0   116.3  \n",
       "2  23.0  106.0   113.3  \n",
       "3  28.0  206.0   107.4  \n",
       "4  48.0  319.0   106.3  "
      ]
     },
     "execution_count": 100,
     "metadata": {},
     "output_type": "execute_result"
    }
   ],
   "source": [
    "# 1. Summarizing Data\n",
    "# Import qb data\n",
    "\n",
    "qb_data = pd.read_csv('C:/Users/corri/OneDrive/Desktop/qb_stats.csv')\n",
    "qb_data.head()"
   ]
  },
  {
   "cell_type": "code",
   "execution_count": 28,
   "id": "23755d94",
   "metadata": {},
   "outputs": [
    {
     "name": "stdout",
     "output_type": "stream",
     "text": [
      "The mean for each numerical column: \n",
      "Games: 14.125 \n",
      "Pass attempts: 478.40625 \n",
      "Pass completions: 306.5625 \n",
      "Completion percentage: 64.296875 \n",
      "Number of yards: 3515.0625 \n",
      "Yards per attempt: 7.375 \n",
      "Touchdowns: 22.375 \n",
      "Interceptions: 10.34375 \n",
      "Sacks: 32.3125 \n",
      "Loss: 217.09375 \n",
      "Quarterback rating: 93.3875\n"
     ]
    }
   ],
   "source": [
    "# 1a. Find the mean of each numerical column of data\n",
    "\n",
    "print(\"The mean for each numerical column:\", \"\\nGames:\", qb_data.games.mean(),\n",
    "      \"\\nPass attempts:\", qb_data.att.mean(), \"\\nPass completions:\", qb_data.cmp.mean(),\n",
    "      \"\\nCompletion percentage:\", qb_data.comp_pct.mean(), \"\\nNumber of yards:\", qb_data.yds.mean(),\n",
    "      \"\\nYards per attempt:\", qb_data.ypa.mean(), \"\\nTouchdowns:\", qb_data.td.mean(),\n",
    "      \"\\nInterceptions:\", qb_data.int.mean(), \"\\nSacks:\", qb_data.sack.mean(),\n",
    "      \"\\nLoss:\", qb_data.loss.mean(), \"\\nQuarterback rating:\", qb_data.rating.mean())"
   ]
  },
  {
   "cell_type": "code",
   "execution_count": 29,
   "id": "6799a8d0",
   "metadata": {},
   "outputs": [
    {
     "name": "stdout",
     "output_type": "stream",
     "text": [
      "The population standard deviation for each numerical column: \n",
      "Games: 2.368411915187052 \n",
      "Pass attempts: 108.6222984057026 \n",
      "Pass completions: 67.84400189957842 \n",
      "Completion percentage: 3.570406522284962 \n",
      "Number of yards: 839.012437985129 \n",
      "Yards per attempt: 0.7842193570679061 \n",
      "Touchdowns: 6.158073968376801 \n",
      "Interceptions: 5.747876645988499 \n",
      "Sacks: 10.348422283130892 \n",
      "Loss: 69.67126352333148 \n",
      "Quarterback rating: 10.880623546010588\n"
     ]
    }
   ],
   "source": [
    "# 1b. Find the standard deviation of each numerical column of data\n",
    "# I used the NumPy library because its default is the population standard deviation and I believe we're working with the\n",
    "# starting QB population of 2019\n",
    "\n",
    "print(\"The population standard deviation for each numerical column:\",\n",
    "     \"\\nGames:\", np.std(qb_data.games), \"\\nPass attempts:\", np.std(qb_data.att),\n",
    "      \"\\nPass completions:\", np.std(qb_data.cmp), \"\\nCompletion percentage:\", np.std(qb_data.comp_pct),\n",
    "      \"\\nNumber of yards:\", np.std(qb_data.yds), \"\\nYards per attempt:\", np.std(qb_data.ypa),\n",
    "      \"\\nTouchdowns:\", np.std(qb_data.td), \"\\nInterceptions:\", np.std(qb_data.int),\n",
    "      \"\\nSacks:\", np.std(qb_data.sack), \"\\nLoss:\", np.std(qb_data.loss),\n",
    "      \"\\nQuarterback rating:\", np.std(qb_data.rating))"
   ]
  },
  {
   "cell_type": "code",
   "execution_count": 41,
   "id": "36d53a99",
   "metadata": {},
   "outputs": [
    {
     "data": {
      "image/png": "[encoded data removed]",
      "text/plain": [
       "<Figure size 432x288 with 1 Axes>"
      ]
     },
     "metadata": {
      "needs_background": "light"
     },
     "output_type": "display_data"
    }
   ],
   "source": [
    "# 1c. Create a histogram of the number of yards\n",
    "\n",
    "plt.hist(qb_data.yds)\n",
    "plt.title('Histogram of Number of Yards')\n",
    "plt.xlabel('Number of Yards')\n",
    "plt.ylabel('Count')\n",
    "\n",
    "plt.show()"
   ]
  },
  {
   "cell_type": "code",
   "execution_count": 52,
   "id": "79abaea4",
   "metadata": {},
   "outputs": [
    {
     "name": "stdout",
     "output_type": "stream",
     "text": [
      "The outlier is 6.\n",
      " 24    6.0\n",
      "Name: td, dtype: float64\n"
     ]
    },
    {
     "data": {
      "image/png": "[encoded data removed]",
      "text/plain": [
       "<Figure size 432x288 with 1 Axes>"
      ]
     },
     "metadata": {
      "needs_background": "light"
     },
     "output_type": "display_data"
    }
   ],
   "source": [
    "# 1d. Create a boxplot of the number of touchdowns\n",
    "\n",
    "plt.boxplot(qb_data.td)\n",
    "plt.title('Touchdowns Boxplot')\n",
    "plt.grid()\n",
    "\n",
    "# find 1st quartile\n",
    "q1 = np.quantile(qb_data.td, 0.25)\n",
    "\n",
    "# find 3rd quartile and median\n",
    "q3 = np.quantile(qb_data.td, 0.75)\n",
    "med = np.median(qb_data.td)\n",
    "\n",
    "# find interquartile range (IQR)\n",
    "iqr = q3 - q1\n",
    "\n",
    "# find upper and lower whiskers\n",
    "upper_bound = q3+(1.5 * iqr)\n",
    "lower_bound = q1 - (1.5 * iqr)\n",
    "\n",
    "# find outliers\n",
    "outliers = qb_data[(qb_data.td <= lower_bound) | (qb_data.td >= upper_bound)]\n",
    "print(\"The outlier is 6.\\n\", outliers.td)\n",
    "\n",
    "plt.show()"
   ]
  },
  {
   "cell_type": "code",
   "execution_count": 108,
   "id": "2f1a7669",
   "metadata": {},
   "outputs": [
    {
     "data": {
      "text/html": [
       "<div>\n",
       "<style scoped>\n",
       "    .dataframe tbody tr th:only-of-type {\n",
       "        vertical-align: middle;\n",
       "    }\n",
       "\n",
       "    .dataframe tbody tr th {\n",
       "        vertical-align: top;\n",
       "    }\n",
       "\n",
       "    .dataframe thead th {\n",
       "        text-align: right;\n",
       "    }\n",
       "</style>\n",
       "<table border=\"1\" class=\"dataframe\">\n",
       "  <thead>\n",
       "    <tr style=\"text-align: right;\">\n",
       "      <th></th>\n",
       "      <th>hair_color</th>\n",
       "      <th>eye_color</th>\n",
       "    </tr>\n",
       "  </thead>\n",
       "  <tbody>\n",
       "    <tr>\n",
       "      <th>0</th>\n",
       "      <td>brown</td>\n",
       "      <td>brown</td>\n",
       "    </tr>\n",
       "    <tr>\n",
       "      <th>1</th>\n",
       "      <td>brown</td>\n",
       "      <td>brown</td>\n",
       "    </tr>\n",
       "    <tr>\n",
       "      <th>2</th>\n",
       "      <td>brown</td>\n",
       "      <td>blue</td>\n",
       "    </tr>\n",
       "    <tr>\n",
       "      <th>3</th>\n",
       "      <td>brown</td>\n",
       "      <td>green</td>\n",
       "    </tr>\n",
       "    <tr>\n",
       "      <th>4</th>\n",
       "      <td>brown</td>\n",
       "      <td>brown</td>\n",
       "    </tr>\n",
       "  </tbody>\n",
       "</table>\n",
       "</div>"
      ],
      "text/plain": [
       "  hair_color eye_color\n",
       "0      brown     brown\n",
       "1      brown     brown\n",
       "2      brown      blue\n",
       "3      brown     green\n",
       "4      brown     brown"
      ]
     },
     "execution_count": 108,
     "metadata": {},
     "output_type": "execute_result"
    }
   ],
   "source": [
    "# 2. Calculating Probabilities from Data\n",
    "# Import survey data\n",
    "\n",
    "s_df = pd.read_csv('C:/Users/corri/OneDrive/Desktop/survey_data.csv')\n",
    "s_df.head()"
   ]
  },
  {
   "cell_type": "code",
   "execution_count": 58,
   "id": "385a08fc",
   "metadata": {},
   "outputs": [
    {
     "name": "stdout",
     "output_type": "stream",
     "text": [
      "The probability of a studen having brown hair is 0.5123456790123457\n"
     ]
    }
   ],
   "source": [
    "# 2a. Probability a college student has brown hair\n",
    "\n",
    "brown_hair = len(s_df[s_df['hair_color'] == 'brown'])\n",
    "p_brown_hair = brown_hair/len(s_df)\n",
    "\n",
    "print(\"The probability of a student having brown hair is\", p_brown_hair)"
   ]
  },
  {
   "cell_type": "code",
   "execution_count": 60,
   "id": "5c0db967",
   "metadata": {},
   "outputs": [
    {
     "name": "stdout",
     "output_type": "stream",
     "text": [
      "The probability of a student having blue eyes is 0.24691358024691357\n"
     ]
    }
   ],
   "source": [
    "# 2b. Probability a college student has blue eyes\n",
    "\n",
    "blue_eyes = len(s_df[s_df['eye_color'] == 'blue'])\n",
    "p_blue_eyes = blue_eyes/len(s_df)\n",
    "\n",
    "print(\"The probability of a student having blue eyes is\", p_blue_eyes)"
   ]
  },
  {
   "cell_type": "code",
   "execution_count": 127,
   "id": "f9c9384f",
   "metadata": {},
   "outputs": [
    {
     "name": "stdout",
     "output_type": "stream",
     "text": [
      "The probability of a college student having blue eyes given they have brown hair\n",
      "is 0.21686746987951808\n"
     ]
    }
   ],
   "source": [
    "# 2c. Probability a college student has blue eyes given they have brown hair\n",
    "\n",
    "h_brown = s_df.loc[s_df['hair_color'] == 'brown']\n",
    "\n",
    "print(\"The probability of a college student having blue eyes given they have brown hair\"\n",
    "      \"\\nis\", len(h_brown.loc[h_brown['eye_color'] == 'blue']) / len(h_brown))"
   ]
  },
  {
   "cell_type": "code",
   "execution_count": 128,
   "id": "657139b4",
   "metadata": {},
   "outputs": [
    {
     "name": "stdout",
     "output_type": "stream",
     "text": [
      "The probability of a college student having brown hair given they have blue eyes\n",
      "is 0.45\n"
     ]
    }
   ],
   "source": [
    "# 2d. Probability a college student has brown hair given they have blue eyes\n",
    "\n",
    "e_blue = s_df.loc[s_df['eye_color'] == 'blue']\n",
    "\n",
    "print(\"The probability of a college student having brown hair given they have blue eyes\"\n",
    "      \"\\nis\", len(e_blue.loc[e_blue['hair_color'] == 'brown']) / len(e_blue))"
   ]
  },
  {
   "cell_type": "code",
   "execution_count": 106,
   "id": "b4127720",
   "metadata": {},
   "outputs": [
    {
     "name": "stdout",
     "output_type": "stream",
     "text": [
      "The results indicate that college students that have brown hair and blue eyes are independent of one another.\n",
      "This is because the probabilities for c and d are very/fairly close to a and b.\n"
     ]
    }
   ],
   "source": [
    "# 2e. \n",
    "\n",
    "print(\"The results indicate that college students that have brown hair and blue eyes are independent of one another.\"\n",
    "      \"\\nThis is because the probabilities for c and d are very/fairly close to a and b.\")"
   ]
  },
  {
   "cell_type": "code",
   "execution_count": 122,
   "id": "a1fcb025",
   "metadata": {},
   "outputs": [
    {
     "data": {
      "text/html": [
       "<div>\n",
       "<style scoped>\n",
       "    .dataframe tbody tr th:only-of-type {\n",
       "        vertical-align: middle;\n",
       "    }\n",
       "\n",
       "    .dataframe tbody tr th {\n",
       "        vertical-align: top;\n",
       "    }\n",
       "\n",
       "    .dataframe thead th {\n",
       "        text-align: right;\n",
       "    }\n",
       "</style>\n",
       "<table border=\"1\" class=\"dataframe\">\n",
       "  <thead>\n",
       "    <tr style=\"text-align: right;\">\n",
       "      <th></th>\n",
       "      <th>hair_color</th>\n",
       "      <th>eye_color</th>\n",
       "      <th>size</th>\n",
       "    </tr>\n",
       "  </thead>\n",
       "  <tbody>\n",
       "    <tr>\n",
       "      <th>0</th>\n",
       "      <td>black</td>\n",
       "      <td>black</td>\n",
       "      <td>6</td>\n",
       "    </tr>\n",
       "    <tr>\n",
       "      <th>1</th>\n",
       "      <td>black</td>\n",
       "      <td>blue</td>\n",
       "      <td>1</td>\n",
       "    </tr>\n",
       "    <tr>\n",
       "      <th>2</th>\n",
       "      <td>black</td>\n",
       "      <td>brown</td>\n",
       "      <td>11</td>\n",
       "    </tr>\n",
       "    <tr>\n",
       "      <th>3</th>\n",
       "      <td>black</td>\n",
       "      <td>green</td>\n",
       "      <td>4</td>\n",
       "    </tr>\n",
       "    <tr>\n",
       "      <th>4</th>\n",
       "      <td>blond</td>\n",
       "      <td>blue</td>\n",
       "      <td>3</td>\n",
       "    </tr>\n",
       "  </tbody>\n",
       "</table>\n",
       "</div>"
      ],
      "text/plain": [
       "  hair_color eye_color  size\n",
       "0      black     black     6\n",
       "1      black      blue     1\n",
       "2      black     brown    11\n",
       "3      black     green     4\n",
       "4      blond      blue     3"
      ]
     },
     "execution_count": 122,
     "metadata": {},
     "output_type": "execute_result"
    }
   ],
   "source": [
    "# 2f. Create a bar graph of the hair color and eye color of the students\n",
    "# create new dataframe to plot\n",
    "\n",
    "df_count = s_df.groupby(['hair_color', 'eye_color'], as_index = False).size()\n",
    "df_count.head()"
   ]
  },
  {
   "cell_type": "code",
   "execution_count": 130,
   "id": "f0686051",
   "metadata": {},
   "outputs": [
    {
     "data": {
      "text/plain": [
       "<AxesSubplot:xlabel='hair_color'>"
      ]
     },
     "execution_count": 130,
     "metadata": {},
     "output_type": "execute_result"
    },
    {
     "data": {
      "image/png": "[encoded data removed]",
      "text/plain": [
       "<Figure size 432x288 with 1 Axes>"
      ]
     },
     "metadata": {
      "needs_background": "light"
     },
     "output_type": "display_data"
    }
   ],
   "source": [
    "# 2f. Create bar plot\n",
    "\n",
    "df_count.pivot(index = 'hair_color', columns = 'eye_color', values = 'size').plot.bar(stacked = False)"
   ]
  }
 ],
 "metadata": {
  "kernelspec": {
   "display_name": "Python 3 (ipykernel)",
   "language": "python",
   "name": "python3"
  },
  "language_info": {
   "codemirror_mode": {
    "name": "ipython",
    "version": 3
   },
   "file_extension": ".py",
   "mimetype": "text/x-python",
   "name": "python",
   "nbconvert_exporter": "python",
   "pygments_lexer": "ipython3",
   "version": "3.9.3"
  }
 },
 "nbformat": 4,
 "nbformat_minor": 5
}
