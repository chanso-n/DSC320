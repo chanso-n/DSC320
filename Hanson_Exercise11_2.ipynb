{
 "cells": [
  {
   "cell_type": "code",
   "execution_count": 46,
   "id": "ac8ed3b0",
   "metadata": {},
   "outputs": [],
   "source": [
    "# import libraries\n",
    "\n",
    "import numpy as np\n",
    "import numpy.random as rnd\n",
    "from scipy.stats import binom\n",
    "import matplotlib.pyplot as plt"
   ]
  },
  {
   "cell_type": "code",
   "execution_count": 28,
   "id": "489acd23",
   "metadata": {},
   "outputs": [
    {
     "name": "stdout",
     "output_type": "stream",
     "text": [
      "The ensemble model accuracy would be: 0.8512830492077244\n"
     ]
    }
   ],
   "source": [
    "# 1a. Ensemble model accuracy\n",
    "\n",
    "n = 15\n",
    "p = .63\n",
    "\n",
    "print(\"The ensemble model accuracy would be:\", 1 - binom.cdf(7, n, p))"
   ]
  },
  {
   "cell_type": "code",
   "execution_count": 27,
   "id": "d43e624f",
   "metadata": {},
   "outputs": [
    {
     "name": "stdout",
     "output_type": "stream",
     "text": [
      "0.63 , 0.8512830492077244\n",
      "0.64 , 0.86977992974609\n",
      "0.65 , 0.8867688692244357\n",
      "0.66 , 0.9022603240315147\n",
      "0.67 , 0.9162806053440711\n",
      "0.68 , 0.9288706251332859\n",
      "0.6900000000000001 , 0.9400844153988924\n",
      "0.7000000000000001 , 0.949987459946224\n",
      "0.7100000000000001 , 0.9586548819437409\n",
      "The accuracy of each of the 15 models would need to be 71% for the ensemble model to have 95% accuracy.\n",
      "For 71% accuracy in each model, the ensemble model would be 95.86%\n"
     ]
    }
   ],
   "source": [
    "# 1b. What would the accuracy of the 15 models need to be to have 95% accuracy?\n",
    "\n",
    "p = .63\n",
    "acc = 1 - binom.cdf(7, n, p)\n",
    "\n",
    "while acc < .95:\n",
    "    acc = 1 - binom.cdf(7, n, p)\n",
    "    print(p, \",\", acc)\n",
    "    p = p + .01\n",
    "    \n",
    "# I just wanted to test my loop...\n",
    "#print(1 - binom.cdf(7, 15, .65))\n",
    "#print(1 - binom.cdf(7, 15, .75))\n",
    "#print(1 - binom.cdf(7, 15, .72))\n",
    "#print(1 - binom.cdf(7, 15, .70))\n",
    "#print(1 - binom.cdf(7, 15, .71))\n",
    "\n",
    "# print answer\n",
    "print(\"The accuracy of each of the 15 models would need to be 71% for the ensemble model to have 95% accuracy.\"\n",
    "     \"\\nFor 71% accuracy in each model, the ensemble model would be 95.86%\")"
   ]
  },
  {
   "cell_type": "code",
   "execution_count": 29,
   "id": "c721fd4f",
   "metadata": {},
   "outputs": [
    {
     "name": "stdout",
     "output_type": "stream",
     "text": [
      "15 , 0.8512830492077244\n",
      "17 , 0.8658664928408661\n",
      "19 , 0.8787086733042108\n",
      "21 , 0.8900840199150323\n",
      "23 , 0.9002082852231472\n",
      "25 , 0.9092548224892133\n",
      "27 , 0.9173653910919826\n",
      "29 , 0.9246576033227324\n",
      "31 , 0.9312302200505518\n",
      "33 , 0.9371670182676638\n",
      "35 , 0.9425396809647804\n",
      "37 , 0.9474099996997165\n",
      "39 , 0.9518315826463696\n",
      "We need 39 or more models to have an esemble model with 95%, with individual models having 63% accuracy.\n"
     ]
    }
   ],
   "source": [
    "# 1c. How many models at 63% accuracy are needed for the ensemble model to have 95% accuracy?\n",
    "\n",
    "n = 15\n",
    "p = .63\n",
    "minimum = (n - 1) / 2\n",
    "mod_a = 1 - binom.cdf(minimum, n, p)\n",
    "\n",
    "while mod_a < .95:\n",
    "    mod_a = 1 - binom.cdf(minimum, n, p)\n",
    "    print(n, \",\", mod_a)\n",
    "    n = n + 2\n",
    "    minimum = (n - 1) / 2\n",
    "    \n",
    "# print answer\n",
    "print('We need 39 or more models to have an esemble model with 95%, with individual models having 63% accuracy.')"
   ]
  },
  {
   "cell_type": "code",
   "execution_count": 30,
   "id": "825ae233",
   "metadata": {},
   "outputs": [
    {
     "name": "stdout",
     "output_type": "stream",
     "text": [
      "1.0\n"
     ]
    }
   ],
   "source": [
    "# 2. Working with Random Data\n",
    "# 2a. Make a pmf\n",
    "\n",
    "# assign probabilities for pmf\n",
    "prob = np.array([1/5, 2/25, 2/5, 7/25, 1/25])\n",
    "\n",
    "# checking to make sure my probabilities add up to 1\n",
    "print(sum(prob))"
   ]
  },
  {
   "cell_type": "code",
   "execution_count": 31,
   "id": "a9843d1b",
   "metadata": {},
   "outputs": [],
   "source": [
    "# 2b/2c. Build a function that generates 50 random X-values from the pmf and returns means. Run this 1,000 and \n",
    "# store the means in a list\n",
    "\n",
    "num_values = 50\n",
    "np.random.choice(a = range(1, 6), size = num_values, replace = True, p = prob)\n",
    "\n",
    "n = 1000\n",
    "\n",
    "def new_list():\n",
    "    m_list = []\n",
    "    for i in range(1, n+1):\n",
    "        mean = np.random.choice(a = range(1, 6), size = num_values, replace = True, p = prob).mean()\n",
    "        m_list.append(mean)\n",
    "    return(np.array(m_list))\n",
    "\n",
    "m_list = new_list()"
   ]
  },
  {
   "cell_type": "code",
   "execution_count": 80,
   "id": "66a76980",
   "metadata": {},
   "outputs": [
    {
     "data": {
      "image/png": "[encoded data removed]",
      "text/plain": [
       "<Figure size 432x288 with 1 Axes>"
      ]
     },
     "metadata": {
      "needs_background": "light"
     },
     "output_type": "display_data"
    },
    {
     "name": "stdout",
     "output_type": "stream",
     "text": [
      "The shape of the histogram is bell shaped (like a bell curve). The Central Limit Theorem tells us this will happen.\n"
     ]
    }
   ],
   "source": [
    "# 2d. Creat a histogram of the means from part c\n",
    "\n",
    "plt.hist(m_list)\n",
    "plt.title('Histogram of Random Choice Means')\n",
    "plt.xlabel('Means')\n",
    "plt.ylabel('Count')\n",
    "\n",
    "# show the plot\n",
    "plt.show()\n",
    "\n",
    "print(\"The shape of the histogram is bell shaped (like a bell curve). The Central Limit Theorem tells us this will happen.\")"
   ]
  },
  {
   "cell_type": "code",
   "execution_count": 82,
   "id": "687e548c",
   "metadata": {},
   "outputs": [
    {
     "name": "stdout",
     "output_type": "stream",
     "text": [
      "The mean of the means list is: 2.8895399999999998\n",
      "The standard deviation of the means list is: 0.15506575508473816\n"
     ]
    }
   ],
   "source": [
    "# 2e. Mean and standard deviation of the list of means\n",
    "\n",
    "print(\"The mean of the means list is:\", m_list.mean())\n",
    "print(\"The standard deviation of the means list is:\", m_list.std())"
   ]
  },
  {
   "cell_type": "code",
   "execution_count": 96,
   "id": "ae55425c",
   "metadata": {},
   "outputs": [
    {
     "name": "stdout",
     "output_type": "stream",
     "text": [
      "Theoretical mean: 2.8800000000000003 Theoretical SD: 1.1426285485668561 \n",
      "I don't think my theoretical sd is correct because it isn't even close to my previous sd.\n"
     ]
    }
   ],
   "source": [
    "# 2e.Theoretical values\n",
    "# the sum of random value * the probability \n",
    "\n",
    "r = np.array(range(1, 6))\n",
    "r2 = np.array(range(1, 6)) ** 2\n",
    "a = np.random.choice(a = range(1, 6), size = num_values, replace = True, p = prob)\n",
    "\n",
    "tm = sum(r * prob)\n",
    "\n",
    "tsd1 = sum(r2 * prob) - tm ** 2\n",
    "tsd = np.sqrt(tsd1)\n",
    "\n",
    "print('Theoretical mean:', tm, 'Theoretical SD:', tsd, \"\\nI don't think my theoretical sd is correct because it \"\n",
    "     \"isn't even close to my previous sd.\")"
   ]
  }
 ],
 "metadata": {
  "kernelspec": {
   "display_name": "Python 3 (ipykernel)",
   "language": "python",
   "name": "python3"
  },
  "language_info": {
   "codemirror_mode": {
    "name": "ipython",
    "version": 3
   },
   "file_extension": ".py",
   "mimetype": "text/x-python",
   "name": "python",
   "nbconvert_exporter": "python",
   "pygments_lexer": "ipython3",
   "version": "3.9.3"
  }
 },
 "nbformat": 4,
 "nbformat_minor": 5
}
